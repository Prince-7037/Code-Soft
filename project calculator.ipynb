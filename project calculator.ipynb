{
 "cells": [
  {
   "cell_type": "code",
   "execution_count": 1,
   "id": "4c5e583a",
   "metadata": {},
   "outputs": [
    {
     "name": "stdout",
     "output_type": "stream",
     "text": [
      "First No. is: 69\n",
      "Second No. is: 36\n",
      "For Additon Press: +\n",
      "For Subtraction Press: -\n",
      "For Multiplication Press: *\n",
      "For Division Press: / \n",
      "For Modulas Press: %\n",
      "For Percentage Press: P\n",
      "Multiplication is: 2484\n"
     ]
    }
   ],
   "source": [
    "a=int(input(\"Enter first No.: \"))\n",
    "print(\"First No. is:\",a)\n",
    "b=int(input(\"Enter second No.: \"))\n",
    "print(\"Second No. is:\",b)\n",
    "print(\"For Additon Press: +\")\n",
    "print(\"For Subtraction Press: -\")\n",
    "print(\"For Multiplication Press: *\")\n",
    "print(\"For Division Press: / \")\n",
    "print(\"For Modulas Press: %\")\n",
    "print(\"For Percentage Press: P\")\n",
    "x=str(input(\"Enter Operation:\"))\n",
    "if x==\"+\" :\n",
    "    y=a+b\n",
    "    print(\"sum is :\",y)\n",
    "elif x==\"-\" :\n",
    "    y=a-b\n",
    "    print(\"Subtraction is:\",y)\n",
    "elif x==\"*\" :\n",
    "    y=a*b\n",
    "    print(\"Multiplication is:\",y)\n",
    "elif x==\"/\" :\n",
    "    y=a/b\n",
    "    print(\"Division is:\",y)\n",
    "elif x==\"%\":\n",
    "    y=a%b\n",
    "    print(\"Modulas is:\",y)\n",
    "elif x==\"P\":\n",
    "    y=(a+b)/100\n",
    "    print(\"Percentage is:\",y)\n",
    "else:\n",
    "    print(\"Invalid Operation !\")\n"
   ]
  },
  {
   "cell_type": "code",
   "execution_count": null,
   "id": "7398bb42",
   "metadata": {},
   "outputs": [],
   "source": []
  }
 ],
 "metadata": {
  "kernelspec": {
   "display_name": "Python 3",
   "language": "python",
   "name": "python3"
  },
  "language_info": {
   "codemirror_mode": {
    "name": "ipython",
    "version": 3
   },
   "file_extension": ".py",
   "mimetype": "text/x-python",
   "name": "python",
   "nbconvert_exporter": "python",
   "pygments_lexer": "ipython3",
   "version": "3.13.5"
  }
 },
 "nbformat": 4,
 "nbformat_minor": 5
}
