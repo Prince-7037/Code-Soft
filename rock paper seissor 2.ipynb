{
 "cells": [
  {
   "cell_type": "code",
   "execution_count": 1,
   "id": "831e5225",
   "metadata": {},
   "outputs": [
    {
     "name": "stdout",
     "output_type": "stream",
     "text": [
      "Welcome to Rock,Paper,Scissor Game\n",
      "You choose: rock\n",
      "computer choice is: rock\n",
      "Match is tie\n",
      " \n",
      "You choose: rock\n",
      "computer choice is: paper\n",
      "computer wins \n",
      " \n",
      "computer score is : 1\n",
      "Thank you for play\n",
      " You play very well. \n",
      "Your score is: 0\n",
      "computer score is: 1\n"
     ]
    }
   ],
   "source": [
    "import random\n",
    "Choices=['rock','paper','scissor']\n",
    "print(\"Welcome to Rock,Paper,Scissor Game\")\n",
    "user_score=0\n",
    "computer_score=0\n",
    "while True:\n",
    "    user=str(input(\"Enter you Choice: \")).lower()\n",
    "    print(\"You choose:\",user)\n",
    "    computer=random.choice(Choices)\n",
    "    print(\"computer choice is:\",computer)\n",
    "    if user == computer :\n",
    "        print(\"Match is tie\\n \")\n",
    "    elif (user == \"rock\" and computer=='scissor' ):\n",
    "        print(\"You win \\n \")\n",
    "        user_score+=1\n",
    "        print(\"Your Score is\",user_score)\n",
    "    elif (user == \"rock\" and computer==\"paper\"):\n",
    "        print(\"computer wins \\n \")\n",
    "        computer_score+=1\n",
    "        print(\"computer score is :\",computer_score)\n",
    "    elif (user == \"paper\" and computer==\"rock\"):\n",
    "        print(\"You win \\n \")\n",
    "        user_score+=1\n",
    "        print(\"Your Score is\",user_score)\n",
    "    elif (user == \"paper\" and computer==\"scissor\"):\n",
    "        print(\"computer wins \\n \")\n",
    "        computer_score+=1\n",
    "        print(\"computer score is :\",computer_score)\n",
    "    elif (user == \"scissor\" and computer==\"rock\"):\n",
    "        print(\"computer wins \\n \")\n",
    "        computer_score+=1\n",
    "        print(\"computer score is :\",computer_score)\n",
    "    elif (user == \"scissor\" and computer==\"paper\"):\n",
    "        print(\"You win \\n \")\n",
    "        user_score+=1\n",
    "        print(\"Your Score is\",user_score)\n",
    "    else :\n",
    "        print(\"Invalid Choice !\")\n",
    "    play_again=input(\"You want to play again (yes/no) \").lower()\n",
    "    if play_again!=\"yes\":\n",
    "        print(\"Thank you for play\\n You play very well. \")\n",
    "        print(\"Your score is:\",user_score)\n",
    "        print(\"computer score is:\",computer_score)\n",
    "        break"
   ]
  }
 ],
 "metadata": {
  "kernelspec": {
   "display_name": "Python 3",
   "language": "python",
   "name": "python3"
  },
  "language_info": {
   "codemirror_mode": {
    "name": "ipython",
    "version": 3
   },
   "file_extension": ".py",
   "mimetype": "text/x-python",
   "name": "python",
   "nbconvert_exporter": "python",
   "pygments_lexer": "ipython3",
   "version": "3.13.5"
  }
 },
 "nbformat": 4,
 "nbformat_minor": 5
}
