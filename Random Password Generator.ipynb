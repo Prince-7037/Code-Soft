{
 "cells": [
  {
   "cell_type": "code",
   "execution_count": 1,
   "id": "9378e038",
   "metadata": {},
   "outputs": [
    {
     "name": "stdout",
     "output_type": "stream",
     "text": [
      "Password length is: 12\n",
      "Generated password is w6:3x7FX'*:v\n"
     ]
    }
   ],
   "source": [
    "import random\n",
    "import string\n",
    "Length=int(input(\"Enter the length of Password: \"))\n",
    "print(\"Password length is:\",Length)\n",
    "Characters=string.ascii_letters+string.digits+string.punctuation\n",
    "Password=''\n",
    "i=0\n",
    "while i<Length:\n",
    "    Password +=random.choice(Characters)\n",
    "    i+=1\n",
    "print(\"Generated password is\",Password)"
   ]
  }
 ],
 "metadata": {
  "kernelspec": {
   "display_name": "Python 3",
   "language": "python",
   "name": "python3"
  },
  "language_info": {
   "codemirror_mode": {
    "name": "ipython",
    "version": 3
   },
   "file_extension": ".py",
   "mimetype": "text/x-python",
   "name": "python",
   "nbconvert_exporter": "python",
   "pygments_lexer": "ipython3",
   "version": "3.13.5"
  }
 },
 "nbformat": 4,
 "nbformat_minor": 5
}
